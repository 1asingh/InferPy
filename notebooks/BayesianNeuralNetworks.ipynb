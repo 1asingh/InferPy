{
 "cells": [
  {
   "cell_type": "markdown",
   "metadata": {},
   "source": [
    "# Bayesian Neural Networks\n",
    "\n",
    "Neural networks are powerful approximators. However, standard approaches for learning this approximators does not take into account the inherent uncertainty we may have when fitting a model. "
   ]
  },
  {
   "cell_type": "code",
   "execution_count": 1,
   "metadata": {},
   "outputs": [
    {
     "name": "stderr",
     "output_type": "stream",
     "text": [
      "/Users/andresmasegosa/Dropbox/infer/tmp/inferpy/lib/python3.6/site-packages/tensorflow/python/framework/dtypes.py:516: FutureWarning: Passing (type, 1) or '1type' as a synonym of type is deprecated; in a future version of numpy, it will be understood as (type, (1,)) / '(1,)type'.\n",
      "  _np_qint8 = np.dtype([(\"qint8\", np.int8, 1)])\n",
      "/Users/andresmasegosa/Dropbox/infer/tmp/inferpy/lib/python3.6/site-packages/tensorflow/python/framework/dtypes.py:517: FutureWarning: Passing (type, 1) or '1type' as a synonym of type is deprecated; in a future version of numpy, it will be understood as (type, (1,)) / '(1,)type'.\n",
      "  _np_quint8 = np.dtype([(\"quint8\", np.uint8, 1)])\n",
      "/Users/andresmasegosa/Dropbox/infer/tmp/inferpy/lib/python3.6/site-packages/tensorflow/python/framework/dtypes.py:518: FutureWarning: Passing (type, 1) or '1type' as a synonym of type is deprecated; in a future version of numpy, it will be understood as (type, (1,)) / '(1,)type'.\n",
      "  _np_qint16 = np.dtype([(\"qint16\", np.int16, 1)])\n",
      "/Users/andresmasegosa/Dropbox/infer/tmp/inferpy/lib/python3.6/site-packages/tensorflow/python/framework/dtypes.py:519: FutureWarning: Passing (type, 1) or '1type' as a synonym of type is deprecated; in a future version of numpy, it will be understood as (type, (1,)) / '(1,)type'.\n",
      "  _np_quint16 = np.dtype([(\"quint16\", np.uint16, 1)])\n",
      "/Users/andresmasegosa/Dropbox/infer/tmp/inferpy/lib/python3.6/site-packages/tensorflow/python/framework/dtypes.py:520: FutureWarning: Passing (type, 1) or '1type' as a synonym of type is deprecated; in a future version of numpy, it will be understood as (type, (1,)) / '(1,)type'.\n",
      "  _np_qint32 = np.dtype([(\"qint32\", np.int32, 1)])\n",
      "/Users/andresmasegosa/Dropbox/infer/tmp/inferpy/lib/python3.6/site-packages/tensorflow/python/framework/dtypes.py:525: FutureWarning: Passing (type, 1) or '1type' as a synonym of type is deprecated; in a future version of numpy, it will be understood as (type, (1,)) / '(1,)type'.\n",
      "  np_resource = np.dtype([(\"resource\", np.ubyte, 1)])\n",
      "/Users/andresmasegosa/Dropbox/infer/tmp/inferpy/lib/python3.6/site-packages/tensorboard/compat/tensorflow_stub/dtypes.py:541: FutureWarning: Passing (type, 1) or '1type' as a synonym of type is deprecated; in a future version of numpy, it will be understood as (type, (1,)) / '(1,)type'.\n",
      "  _np_qint8 = np.dtype([(\"qint8\", np.int8, 1)])\n",
      "/Users/andresmasegosa/Dropbox/infer/tmp/inferpy/lib/python3.6/site-packages/tensorboard/compat/tensorflow_stub/dtypes.py:542: FutureWarning: Passing (type, 1) or '1type' as a synonym of type is deprecated; in a future version of numpy, it will be understood as (type, (1,)) / '(1,)type'.\n",
      "  _np_quint8 = np.dtype([(\"quint8\", np.uint8, 1)])\n",
      "/Users/andresmasegosa/Dropbox/infer/tmp/inferpy/lib/python3.6/site-packages/tensorboard/compat/tensorflow_stub/dtypes.py:543: FutureWarning: Passing (type, 1) or '1type' as a synonym of type is deprecated; in a future version of numpy, it will be understood as (type, (1,)) / '(1,)type'.\n",
      "  _np_qint16 = np.dtype([(\"qint16\", np.int16, 1)])\n",
      "/Users/andresmasegosa/Dropbox/infer/tmp/inferpy/lib/python3.6/site-packages/tensorboard/compat/tensorflow_stub/dtypes.py:544: FutureWarning: Passing (type, 1) or '1type' as a synonym of type is deprecated; in a future version of numpy, it will be understood as (type, (1,)) / '(1,)type'.\n",
      "  _np_quint16 = np.dtype([(\"quint16\", np.uint16, 1)])\n",
      "/Users/andresmasegosa/Dropbox/infer/tmp/inferpy/lib/python3.6/site-packages/tensorboard/compat/tensorflow_stub/dtypes.py:545: FutureWarning: Passing (type, 1) or '1type' as a synonym of type is deprecated; in a future version of numpy, it will be understood as (type, (1,)) / '(1,)type'.\n",
      "  _np_qint32 = np.dtype([(\"qint32\", np.int32, 1)])\n",
      "/Users/andresmasegosa/Dropbox/infer/tmp/inferpy/lib/python3.6/site-packages/tensorboard/compat/tensorflow_stub/dtypes.py:550: FutureWarning: Passing (type, 1) or '1type' as a synonym of type is deprecated; in a future version of numpy, it will be understood as (type, (1,)) / '(1,)type'.\n",
      "  np_resource = np.dtype([(\"resource\", np.ubyte, 1)])\n"
     ]
    }
   ],
   "source": [
    "import matplotlib.pyplot as plt\n",
    "import numpy as np\n",
    "import tensorflow as tf\n",
    "import math\n",
    "import inferpy as inf"
   ]
  },
  {
   "cell_type": "markdown",
   "metadata": {},
   "source": [
    "## Data\n",
    "\n",
    "We use some fake data. As neural nets of even one hidden layer \n",
    "can be universal function approximators, we can see if we can \n",
    "train a simple neural network to fit a noisy sinusoidal data, like this:\n",
    "    "
   ]
  },
  {
   "cell_type": "code",
   "execution_count": 2,
   "metadata": {},
   "outputs": [
    {
     "data": {
      "image/png": "[encoded data removed]",
      "text/plain": [
       "<Figure size 576x576 with 1 Axes>"
      ]
     },
     "metadata": {
      "needs_background": "light"
     },
     "output_type": "display_data"
    }
   ],
   "source": [
    "NSAMPLE = 100\n",
    "x_train = np.float32(np.random.uniform(-10.5, 10.5, (1, NSAMPLE))).T\n",
    "r_train = np.float32(np.random.normal(size=(NSAMPLE,1),scale=1.0))\n",
    "y_train = np.float32(np.sin(0.75*x_train)*7.0+x_train*0.5+r_train*1.0)\n",
    "\n",
    "plt.figure(figsize=(8, 8))\n",
    "plot_out = plt.plot(x_train,y_train,'ro',markersize=5)\n",
    "plt.show()"
   ]
  },
  {
   "cell_type": "markdown",
   "metadata": {},
   "source": [
    "## Training a neural network\n",
    "\n",
    "We employ a simple feedforward network with 20 hidden units to try to fit the data. \n"
   ]
  },
  {
   "cell_type": "code",
   "execution_count": 3,
   "metadata": {},
   "outputs": [
    {
     "name": "stdout",
     "output_type": "stream",
     "text": [
      "1329.1733\n",
      "724.98596\n",
      "504.65738\n",
      "290.93298\n",
      "166.82144\n",
      "108.051575\n",
      "79.41223\n",
      "65.34183\n",
      "58.50912\n",
      "55.22774\n"
     ]
    }
   ],
   "source": [
    "x = tf.placeholder(dtype=tf.float32, shape=[None,1])\n",
    "y = tf.placeholder(dtype=tf.float32, shape=[None,1])\n",
    "\n",
    "\n",
    "NHIDDEN = 20\n",
    "W = tf.Variable(tf.random_normal([1,NHIDDEN], stddev=1.0, dtype=tf.float32))\n",
    "b = tf.Variable(tf.random_normal([1,NHIDDEN], stddev=1.0, dtype=tf.float32))\n",
    "\n",
    "W_out = tf.Variable(tf.random_normal([NHIDDEN,1], stddev=1.0, dtype=tf.float32))\n",
    "b_out = tf.Variable(tf.random_normal([1,1], stddev=1.0, dtype=tf.float32))\n",
    "\n",
    "hidden_layer = tf.nn.tanh(tf.matmul(x, W) + b)\n",
    "y_out = tf.matmul(hidden_layer,W_out) + b_out\n",
    "\n",
    "lossfunc = tf.nn.l2_loss(y_out-y);\n",
    "\n",
    "\n",
    "train_op = tf.train.AdamOptimizer(0.01).minimize(lossfunc)\n",
    "\n",
    "sess = tf.InteractiveSession()\n",
    "sess.run(tf.global_variables_initializer())\n",
    "\n",
    "NEPOCH = 1000\n",
    "for i in range(NEPOCH):\n",
    "  sess.run(train_op,feed_dict={x: x_train, y: y_train})\n",
    "  if i%100==0: \n",
    "        print(sess.run(lossfunc,feed_dict={x: x_train, y: y_train}))\n"
   ]
  },
  {
   "cell_type": "markdown",
   "metadata": {},
   "source": [
    "We see that the neural network can fit this sinusoidal data quite well, as expected. "
   ]
  },
  {
   "cell_type": "code",
   "execution_count": 4,
   "metadata": {},
   "outputs": [
    {
     "data": {
      "image/png": "[encoded data removed]",
      "text/plain": [
       "<Figure size 576x576 with 1 Axes>"
      ]
     },
     "metadata": {
      "needs_background": "light"
     },
     "output_type": "display_data"
    }
   ],
   "source": [
    "x_test = np.float32(np.arange(-10.5,10.5,0.1))\n",
    "x_test = x_test.reshape(x_test.size,1)\n",
    "y_test = sess.run(y_out,feed_dict={x: x_test})\n",
    "\n",
    "plt.figure(figsize=(8, 8))\n",
    "plt.plot(x_train,y_train,'ro')\n",
    "plt.plot(x_test,y_test,'bo',markersize=1)\n",
    "plt.xticks(np.arange(-10., 10, 2))\n",
    "plt.show()\n",
    "sess.close()"
   ]
  },
  {
   "cell_type": "markdown",
   "metadata": {},
   "source": [
    "However this model is unable to capture the uncertainty in the model. For example, when making predictions about a single point (e.g. around x=2.0) we can see we do not account aobut the inherent noise there is in this predictions. In next section, we will what happen when we introduce a Bayesian approach using Inferpy. "
   ]
  },
  {
   "cell_type": "markdown",
   "metadata": {},
   "source": [
    "## Bayesian Learning of Neural Networks\n",
    "\n",
    "[Bayesian modeling](http://mlg.eng.cam.ac.uk/zoubin/papers/NatureReprint15.pdf) offers a systematic framework for reasoning about model uncertainty. Instead of just learning point estimates, we're going to learn a distribution over variables that are consistent with the observed data.\n",
    "\n",
    "In Bayesian learning, the weights of the network are `random variables`. The output of the nework is another `random variable`. And the random variable of the output is the one that implicitlyl defines the ``loss function``. So, when making Bayesian learning we do not define ``loss functions``, we do define ``random variables``. For more information you can check [this talk](https://www.cs.ox.ac.uk/people/yarin.gal/website/PDFs/2017_OReilly_talk.pdf) and this [paper](https://arxiv.org/abs/1908.03442)."
   ]
  },
  {
   "cell_type": "markdown",
   "metadata": {},
   "source": [
    "In Inferpy, defining a Bayesian neural network is quite straightforward. First we \n",
    "define our model, where the weights of the neural network are defined as random variables. Second, the input `x` and output `y` are also define as random variables. More precisely, the output `y` is defined as a Gaussian random varible. The mean of the Gaussian is the output of the neural network, and the scale (or standard deviation) of the Gaussian is also learnt from data. In this case, we do not follow a Bayesian treatment of the parameter, and we perform a simpler maximum likelihood estimate. "
   ]
  },
  {
   "cell_type": "code",
   "execution_count": 17,
   "metadata": {},
   "outputs": [],
   "source": [
    "@inf.probmodel\n",
    "def model1(NHIDDEN):\n",
    "    W = tf.Variable(tf.random_normal([1,NHIDDEN], stddev=1.0, dtype=tf.float32))\n",
    "    b = tf.Variable(tf.random_normal([1,NHIDDEN], stddev=1.0, dtype=tf.float32))\n",
    "\n",
    "    W_out = tf.Variable(tf.random_normal([NHIDDEN,1], stddev=1.0, dtype=tf.float32))\n",
    "    b_out = tf.Variable(tf.random_normal([1,1], stddev=1.0, dtype=tf.float32))\n",
    "\n",
    "    scale = tf.nn.softplus(tf.Variable(tf.random_normal([1], -5., stddev=0.05, dtype=tf.float32)))\n",
    "\n",
    "    with inf.datamodel():\n",
    "        x = inf.Normal(loc = tf.ones([1]), scale = 1.0, name=\"x\")\n",
    "        hidden_layer = tf.nn.tanh(tf.matmul(x, W) + b)\n",
    "        out = tf.matmul(hidden_layer,W_out) + b_out\n",
    "        y = inf.Normal(loc = out , scale= scale, name=\"y\")\n",
    "\n",
    "\n",
    "@inf.probmodel\n",
    "def model2(NHIDDEN):\n",
    "    W = inf.Normal(loc = tf.zeros([1,NHIDDEN]), scale=1., name=\"W\")\n",
    "    b = inf.Normal(loc = tf.zeros([1,NHIDDEN]), scale=1., name=\"b\")\n",
    "\n",
    "    W_out = inf.Normal(loc = tf.zeros([NHIDDEN,1]), scale=1., name=\"W_out\")\n",
    "    b_out = inf.Normal(loc = tf.zeros([1,1]), scale=1., name=\"b_out\")\n",
    "\n",
    "    scale = tf.nn.softplus(inf.Parameter(-5., name=\"scale\"))\n",
    "\n",
    "\n",
    "    with inf.datamodel():\n",
    "        x = inf.Normal(loc = tf.zeros([1]), scale = 1.0, name=\"x\")\n",
    "        hidden_layer = tf.nn.tanh(tf.matmul(x, W) + b)\n",
    "        out = tf.matmul(hidden_layer,W_out) + b_out\n",
    "        y = inf.Normal(loc = out , scale= scale, name=\"y\")\n",
    "\n",
    "@inf.probmodel\n",
    "def model3(NHIDDEN):\n",
    "    W = inf.Normal(loc = tf.zeros([1,1]), scale=1.0, name=\"W\")\n",
    "    b = inf.Normal(loc = tf.zeros([1,1]), scale=1.0, name=\"b\")\n",
    "    \n",
    "    with inf.datamodel():\n",
    "        x = inf.Normal(loc = tf.zeros([1]), scale = 1.0, name=\"x\")\n",
    "        out = tf.matmul(x, W) + b\n",
    "        y = inf.Normal(loc = out , scale= 0.01, name=\"y\")\n"
   ]
  },
  {
   "cell_type": "markdown",
   "metadata": {},
   "source": [
    "To perform Bayesian learning, we resort the scalable variational methods available in Inferpy, which require the definition of a `q` model. For details,see the documentation about [Inference in Inferpy](https://inferpy.readthedocs.io/projects/develop/en/develop/notes/guideinference.html). For a deeper theoretical despcription, read this [paper](https://arxiv.org/abs/1908.03442)."
   ]
  },
  {
   "cell_type": "code",
   "execution_count": 21,
   "metadata": {},
   "outputs": [],
   "source": [
    "@inf.probmodel\n",
    "def qmodel1(NHIDDEN):\n",
    "    return;\n",
    "\n",
    "@inf.probmodel\n",
    "def qmodel2(NHIDDEN):\n",
    "    W_loc = inf.Parameter(tf.random_normal([1,NHIDDEN], 0.0, 0.05, dtype=tf.float32))\n",
    "    b_loc = inf.Parameter(tf.random_normal([1,NHIDDEN], 0.0, 0.05, dtype=tf.float32))\n",
    "    W_scale = tf.nn.softplus(inf.Parameter(tf.random_normal([1,NHIDDEN], -5., stddev=0.05 ,dtype=tf.float32)))+0.01\n",
    "    b_scale = tf.nn.softplus(inf.Parameter(tf.random_normal([1,NHIDDEN],  -5., stddev=0.05 ,dtype=tf.float32)))\n",
    "\n",
    "    qW = inf.Normal(W_loc, scale = W_scale, name=\"W\")\n",
    "    qb = inf.Normal(b_loc, scale = b_scale, name=\"b\")\n",
    "\n",
    "    W_out_loc = inf.Parameter(tf.random_normal([NHIDDEN,1], 0.0, 0.05, dtype=tf.float32))\n",
    "    b_out_loc = inf.Parameter(tf.random_normal([1,1], 0.0, 0.05, dtype=tf.float32))\n",
    "    W_out_scale = tf.nn.softplus(inf.Parameter(tf.random_normal([NHIDDEN,1],  -5., stddev=0.05, dtype=tf.float32)))\n",
    "    b_out_scale = tf.nn.softplus(inf.Parameter(tf.random_normal([1,1],  -10., stddev=0.05, dtype=tf.float32)))\n",
    "\n",
    "    qW_out = inf.Normal(W_out_loc, scale = W_out_scale, name=\"W_out\")\n",
    "    qb_out = inf.Normal(b_out_loc, scale = b_out_scale, name=\"b_out\")\n",
    "    \n",
    "@inf.probmodel\n",
    "def qmodel3(NHIDDEN):\n",
    "    W_loc = inf.Parameter(tf.random_normal([1,1], stddev=1.0, dtype=tf.float32))\n",
    "    b_loc = inf.Parameter(tf.random_normal([1,1], stddev=1.0, dtype=tf.float32))\n",
    "    W_scale = tf.nn.softplus(inf.Parameter(tf.random_uniform([1,1], dtype=tf.float32)))+0.01\n",
    "    b_scale = tf.nn.softplus(inf.Parameter(tf.random_uniform([1,1], dtype=tf.float32)))+0.01\n",
    "\n",
    "    qW = inf.Normal(W_loc, scale = W_scale, name=\"W\")\n",
    "    qb = inf.Normal(b_loc, scale = b_scale, name=\"b\")\n",
    "    \n"
   ]
  },
  {
   "cell_type": "code",
   "execution_count": 22,
   "metadata": {},
   "outputs": [
    {
     "name": "stdout",
     "output_type": "stream",
     "text": [
      "\n",
      " 0 epochs\t 35735312.0....................\n",
      " 200 epochs\t 2845490.5....................\n",
      " 400 epochs\t 1061176.5....................\n",
      " 600 epochs\t 600484.5625....................\n",
      " 800 epochs\t 375528.15625....................\n",
      " 1000 epochs\t 242850.59375....................\n",
      " 1200 epochs\t 163767.578125....................\n",
      " 1400 epochs\t 115047.953125....................\n",
      " 1600 epochs\t 83717.1796875....................\n",
      " 1800 epochs\t 62864.21875....................\n",
      " 2000 epochs\t 49013.87890625....................\n",
      " 2200 epochs\t 38575.46875....................\n",
      " 2400 epochs\t 31607.583984375....................\n",
      " 2600 epochs\t 27029.865234375....................\n",
      " 2800 epochs\t 22581.046875....................\n",
      " 3000 epochs\t 19761.11328125....................\n",
      " 3200 epochs\t 17654.70703125....................\n",
      " 3400 epochs\t 15910.0341796875....................\n",
      " 3600 epochs\t 14671.56640625....................\n",
      " 3800 epochs\t 13384.9501953125....................\n",
      " 4000 epochs\t 12463.4658203125....................\n",
      " 4200 epochs\t 11950.05859375....................\n",
      " 4400 epochs\t 10982.8408203125....................\n",
      " 4600 epochs\t 10300.392578125....................\n",
      " 4800 epochs\t 9672.2470703125....................\n",
      " 5000 epochs\t 9145.77734375....................\n",
      " 5200 epochs\t 8932.708984375....................\n",
      " 5400 epochs\t 8191.85302734375....................\n",
      " 5600 epochs\t 8209.7236328125....................\n",
      " 5800 epochs\t 7552.75732421875....................\n",
      " 6000 epochs\t 6912.53955078125....................\n",
      " 6200 epochs\t 6559.40576171875....................\n",
      " 6400 epochs\t 6242.12353515625....................\n",
      " 6600 epochs\t 5923.5263671875....................\n",
      " 6800 epochs\t 5734.498046875....................\n",
      " 7000 epochs\t 5390.36083984375....................\n",
      " 7200 epochs\t 5145.8193359375....................\n",
      " 7400 epochs\t 4881.78173828125....................\n",
      " 7600 epochs\t 4561.38916015625....................\n",
      " 7800 epochs\t 4631.59033203125....................\n",
      " 8000 epochs\t 4278.81884765625....................\n",
      " 8200 epochs\t 4026.1162109375....................\n",
      " 8400 epochs\t 3859.720703125....................\n",
      " 8600 epochs\t 3713.70263671875....................\n",
      " 8800 epochs\t 3599.844970703125....................\n",
      " 9000 epochs\t 3435.13916015625....................\n",
      " 9200 epochs\t 3320.072265625....................\n",
      " 9400 epochs\t 3246.248046875....................\n",
      " 9600 epochs\t 3085.03125....................\n",
      " 9800 epochs\t 3025.88232421875...................."
     ]
    }
   ],
   "source": [
    "NHIDDEN=20\n",
    "\n",
    "p = model2(NHIDDEN)\n",
    "q = qmodel2(NHIDDEN)\n",
    "\n",
    "VI = inf.inference.VI(q, optimizer = tf.train.AdamOptimizer(0.01), epochs=10000)\n",
    "\n",
    "p.fit({\"x\": x_train, \"y\": y_train}, VI)"
   ]
  },
  {
   "cell_type": "markdown",
   "metadata": {},
   "source": [
    "As can be seen in the nex figure, the output of our model is not deterministic. So, we can caputure the uncertainty in the data. See for example what happens now with the predictions at the point `x=2.0`."
   ]
  },
  {
   "cell_type": "code",
   "execution_count": 27,
   "metadata": {},
   "outputs": [
    {
     "data": {
      "image/png": "[encoded data removed]",
      "text/plain": [
       "<Figure size 576x576 with 1 Axes>"
      ]
     },
     "metadata": {
      "needs_background": "light"
     },
     "output_type": "display_data"
    }
   ],
   "source": [
    "plt.figure(figsize=(8, 8))\n",
    "for i in range(1000):\n",
    "    x_test = np.float32(np.random.uniform(-12.5, 12.5, (1, NSAMPLE))).T\n",
    "    y_test = p.posterior_predictive([\"y\"], data = {\"x\": x_test}).sample()\n",
    "    plt.plot(x_test,y_test,'bo',markersize=1)\n",
    "plt.plot(x_train,y_train,'ro',markersize=5)\n",
    "plt.xticks(np.arange(-10., 10, 2))\n",
    "plt.show()"
   ]
  }
 ],
 "metadata": {
  "kernelspec": {
   "display_name": "Python 3",
   "language": "python",
   "name": "python3"
  },
  "language_info": {
   "codemirror_mode": {
    "name": "ipython",
    "version": 3
   },
   "file_extension": ".py",
   "mimetype": "text/x-python",
   "name": "python",
   "nbconvert_exporter": "python",
   "pygments_lexer": "ipython3",
   "version": "3.6.6"
  }
 },
 "nbformat": 4,
 "nbformat_minor": 2
}

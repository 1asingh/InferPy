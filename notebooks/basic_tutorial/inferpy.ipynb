{
 "cells": [
  {
   "cell_type": "markdown",
   "metadata": {},
   "source": [
    "![](title.png)\n"
   ]
  },
  {
   "cell_type": "markdown",
   "metadata": {},
   "source": [
    "* Documentation: http://inferpy.readthedocs.io\n",
    "\n",
    "* Source code: https://github.com/PGM-Lab/InferPy\n",
    "\n",
    "* Package: https://pypi.org/project/inferpy/\n",
    "\n",
    "\n",
    "# Overview\n",
    "\n",
    "InferPy is a probabilistic programming language that:\n",
    "* allows easy and fast prototyping of probabilistic models\n",
    "* is built on top of Edward and TensorFlow\n",
    "* runs seamlessly on CPUs and GPUs\n"
   ]
  },
  {
   "cell_type": "markdown",
   "metadata": {},
   "source": [
    "![](architecture.png)\n",
    "\n",
    "\n",
    "Tensorflow is a framework that performs operations with tensors (https://www.tensorflow.org/) in an efficient way:"
   ]
  },
  {
   "cell_type": "code",
   "execution_count": null,
   "metadata": {},
   "outputs": [],
   "source": [
    "import tensorflow as tf\n",
    "\n",
    "A = tf.constant([[2.,3.,4.],[2.,3.,4.]])\n",
    "B = tf.constant([[1.,2.,0.4],[10.,3.,4.]])\n",
    "\n",
    "AB = tf.matmul(A,B, transpose_b=True)\n",
    "\n",
    "AB\n"
   ]
  },
  {
   "cell_type": "markdown",
   "metadata": {},
   "source": [
    "Note: for running each code-cell, select it and click shift+enter"
   ]
  },
  {
   "cell_type": "code",
   "execution_count": null,
   "metadata": {},
   "outputs": [],
   "source": [
    "sess = tf.Session()\n",
    "sess.run(AB)"
   ]
  },
  {
   "cell_type": "markdown",
   "metadata": {},
   "source": [
    "Edward allows the definition of probabilistic models (http://edwardlib.org/). Inferpy aims to be its simplification "
   ]
  },
  {
   "cell_type": "code",
   "execution_count": null,
   "metadata": {},
   "outputs": [],
   "source": [
    "import edward as ed\n",
    "\n",
    "a = ed.models.Poisson(5.) \n",
    "b = ed.models.Beta(2.,2.)\n",
    "\n",
    "x = ed.models.Normal(loc=tf.matmul(tf.ones([3,2]), (tf.eye(2)*[2+a, 100*b])), scale=1.)\n",
    "\n",
    "\n",
    "x.sample()"
   ]
  },
  {
   "cell_type": "markdown",
   "metadata": {},
   "source": [
    "# Inferpy models\n",
    "\n",
    "For using InferPy, the package should be imported as follows"
   ]
  },
  {
   "cell_type": "code",
   "execution_count": null,
   "metadata": {},
   "outputs": [],
   "source": [
    "import inferpy as inf "
   ]
  },
  {
   "cell_type": "markdown",
   "metadata": {},
   "source": [
    "inf is the alias of the package, which will be used for simplicity. The inferpy version can be displayed with the following command:"
   ]
  },
  {
   "cell_type": "code",
   "execution_count": null,
   "metadata": {},
   "outputs": [],
   "source": [
    "print(inf.VERSION)"
   ]
  },
  {
   "cell_type": "markdown",
   "metadata": {},
   "source": [
    "Generate some toy data:"
   ]
  },
  {
   "cell_type": "code",
   "execution_count": null,
   "metadata": {},
   "outputs": [],
   "source": [
    "N=1000 # number of observations\n",
    "x_train = inf.models.Normal(10, scale=1).sample(N)"
   ]
  },
  {
   "cell_type": "code",
   "execution_count": null,
   "metadata": {},
   "outputs": [],
   "source": [
    "print(x_train)"
   ]
  },
  {
   "cell_type": "code",
   "execution_count": null,
   "metadata": {},
   "outputs": [],
   "source": [
    "import matplotlib.pyplot as plt\n",
    "plt.hist(x_train)\n",
    "plt.title(\"Gaussian Histogram\")\n",
    "plt.xlabel(\"Value\")\n",
    "plt.ylabel(\"Frequency\")\n",
    "\n",
    "fig = plt.gcf()"
   ]
  },
  {
   "cell_type": "markdown",
   "metadata": {},
   "source": [
    "Definition of the model for learning the parameters (i.e. the mean): \n",
    "\n",
    "![](simple_model.png)\n",
    "\n"
   ]
  },
  {
   "cell_type": "code",
   "execution_count": null,
   "metadata": {},
   "outputs": [],
   "source": [
    "with inf.ProbModel() as m:\n",
    "    # prior (latent variable)\n",
    "    theta = inf.models.Normal(loc=0, scale=1)\n",
    "\n",
    "    # observed variable\n",
    "    with inf.replicate(size=N):\n",
    "        x = inf.models.Normal(loc = theta, scale=1, observed=True)\n"
   ]
  },
  {
   "cell_type": "markdown",
   "metadata": {},
   "source": [
    "Encapsulate the training data in a dictionary"
   ]
  },
  {
   "cell_type": "code",
   "execution_count": null,
   "metadata": {},
   "outputs": [],
   "source": [
    "data = {x.name : x_train}"
   ]
  },
  {
   "cell_type": "markdown",
   "metadata": {},
   "source": [
    "Make inference:"
   ]
  },
  {
   "cell_type": "code",
   "execution_count": null,
   "metadata": {},
   "outputs": [],
   "source": [
    "#compile and make inference\n",
    "m.compile()\n",
    "m.fit(data)"
   ]
  },
  {
   "cell_type": "code",
   "execution_count": null,
   "metadata": {},
   "outputs": [],
   "source": [
    "print(m.posterior(theta))"
   ]
  },
  {
   "cell_type": "markdown",
   "metadata": {},
   "source": [
    "# Random variables"
   ]
  },
  {
   "cell_type": "markdown",
   "metadata": {},
   "source": [
    "InferPy allows the definition of variabels following the distributions below:"
   ]
  },
  {
   "cell_type": "code",
   "execution_count": null,
   "metadata": {},
   "outputs": [],
   "source": [
    "inf.models.ALLOWED_VARS"
   ]
  },
  {
   "cell_type": "markdown",
   "metadata": {},
   "source": [
    "For example:"
   ]
  },
  {
   "cell_type": "code",
   "execution_count": null,
   "metadata": {},
   "outputs": [],
   "source": [
    "a = inf.models.Poisson(5.) \n",
    "b = inf.models.Beta(2.,2.)\n",
    "c = inf.models.Categorical(probs=[0.3,0.2,0.5])"
   ]
  },
  {
   "cell_type": "markdown",
   "metadata": {},
   "source": [
    "Samples can be obtained:"
   ]
  },
  {
   "cell_type": "code",
   "execution_count": null,
   "metadata": {
    "scrolled": true
   },
   "outputs": [],
   "source": [
    "a.sample(10)"
   ]
  },
  {
   "cell_type": "code",
   "execution_count": null,
   "metadata": {},
   "outputs": [],
   "source": [
    "b.sample(10)"
   ]
  },
  {
   "cell_type": "code",
   "execution_count": null,
   "metadata": {},
   "outputs": [],
   "source": [
    "c.sample(10)"
   ]
  },
  {
   "cell_type": "markdown",
   "metadata": {},
   "source": [
    "Distribution matrix can me defined:\n",
    "\n",
    "![](shape.png)\n"
   ]
  },
  {
   "cell_type": "code",
   "execution_count": null,
   "metadata": {},
   "outputs": [],
   "source": [
    "with inf.replicate(size=10):\n",
    "    x = inf.models.Normal(loc=[0,0,0], scale=[1,1,1])\n",
    "    \n",
    "print(x)"
   ]
  },
  {
   "cell_type": "code",
   "execution_count": null,
   "metadata": {},
   "outputs": [],
   "source": [
    "with inf.replicate(size=10):\n",
    "    x = inf.models.Normal(loc=0, scale=1, dim=3)\n",
    "print(x)"
   ]
  },
  {
   "cell_type": "code",
   "execution_count": null,
   "metadata": {},
   "outputs": [],
   "source": [
    "x.sample()"
   ]
  },
  {
   "cell_type": "markdown",
   "metadata": {},
   "source": [
    "The parameters can be other variables:"
   ]
  },
  {
   "cell_type": "code",
   "execution_count": null,
   "metadata": {},
   "outputs": [],
   "source": [
    "with inf.replicate(size=3):\n",
    "    x = inf.models.Normal(loc=[2+a, 100*b], scale=1)\n",
    "x.sample()"
   ]
  },
  {
   "cell_type": "code",
   "execution_count": null,
   "metadata": {},
   "outputs": [],
   "source": [
    "x.shape"
   ]
  },
  {
   "cell_type": "markdown",
   "metadata": {},
   "source": [
    "# Probabilistic models\n",
    "\n",
    "A probabilistic model in InferPy is basically a set of random variables:\n"
   ]
  },
  {
   "cell_type": "code",
   "execution_count": null,
   "metadata": {},
   "outputs": [],
   "source": [
    "with inf.ProbModel() as m:\n",
    "    theta = inf.models.Beta(0.5,0.5)\n",
    "    z =  inf.models.Categorical(probs=[theta, 1-theta], name=\"z\")\n",
    "\n",
    "\n",
    "m.sample()"
   ]
  },
  {
   "cell_type": "markdown",
   "metadata": {},
   "source": [
    "An alternative definition:"
   ]
  },
  {
   "cell_type": "code",
   "execution_count": null,
   "metadata": {},
   "outputs": [],
   "source": [
    "theta = inf.models.Beta(0.5,0.5)\n",
    "z =  inf.models.Categorical(probs=[theta, 1-theta], name=\"z\")\n",
    "\n",
    "m = inf.ProbModel(varlist=[theta,z])\n",
    "m.sample()\n",
    "\n"
   ]
  },
  {
   "cell_type": "markdown",
   "metadata": {},
   "source": [
    "We might define models with complex dependencies between their variables"
   ]
  },
  {
   "cell_type": "code",
   "execution_count": null,
   "metadata": {},
   "outputs": [],
   "source": [
    "# Categorical variable depending on another categorical variable\n",
    "\n",
    "with inf.ProbModel() as m2:\n",
    "    y =  inf.models.Categorical(probs=[0.4,0.6], name=\"y\")\n",
    "    x = inf.models.Categorical(probs=inf.case({y.equal(0): [0.0, 1.0],\n",
    "                                               y.equal(1): [1.0, 0.0] }), name=\"x\")\n",
    "m2.sample()\n"
   ]
  },
  {
   "cell_type": "code",
   "execution_count": null,
   "metadata": {},
   "outputs": [],
   "source": [
    "# Categorical variable depending on a Normal distributed variable\n",
    "\n",
    "with inf.ProbModel() as m3:\n",
    "    a = inf.models.Normal(0,1, name=\"a\")\n",
    "    b = inf.models.Categorical(probs=inf.case({a>0: [0.0, 1.0],\n",
    "                                               a<=0: [1.0, 0.0]}), name=\"b\")\n",
    "m3.sample()\n"
   ]
  },
  {
   "cell_type": "code",
   "execution_count": null,
   "metadata": {},
   "outputs": [],
   "source": [
    "# Normal distributed variable depending on a Categorical variable\n",
    "\n",
    "with inf.ProbModel() as m4:\n",
    "    d =  inf.models.Categorical(probs=[0.4,0.6], name=\"d\")\n",
    "    c = inf.models.Normal(loc=inf.case({d.equal(0): 0.,\n",
    "                                        d.equal(1): 100.}), scale=1., name=\"c\")\n",
    "m4.sample()"
   ]
  },
  {
   "cell_type": "markdown",
   "metadata": {},
   "source": [
    "# Inference"
   ]
  },
  {
   "cell_type": "markdown",
   "metadata": {},
   "source": [
    "Linear Factor Model (PCA)\n",
    "![](pca.png)\n",
    "\n",
    "The model is defined as follows:"
   ]
  },
  {
   "cell_type": "code",
   "execution_count": null,
   "metadata": {},
   "outputs": [],
   "source": [
    "K, d, N = 5, 10, 200\n",
    "\n",
    "# model definition\n",
    "with inf.ProbModel() as m:\n",
    "    #define the weights\n",
    "    with inf.replicate(size=K):\n",
    "        w = inf.models.Normal(0, 1, dim=d)\n",
    "\n",
    "    # define the generative model\n",
    "    with inf.replicate(size=N):\n",
    "        z = inf.models.Normal(0, 1, dim=K)\n",
    "        x = inf.models.Normal(inf.matmul(z,w), 1.0, observed=True, dim=d)\n",
    "\n",
    "m.compile()\n"
   ]
  },
  {
   "cell_type": "markdown",
   "metadata": {},
   "source": [
    "Some training data is generated:"
   ]
  },
  {
   "cell_type": "code",
   "execution_count": null,
   "metadata": {},
   "outputs": [],
   "source": [
    "x_train = inf.models.Normal(10,1,dim=d).sample(N)\n",
    "data = {x.name : x_train}"
   ]
  },
  {
   "cell_type": "markdown",
   "metadata": {},
   "source": [
    "Inference can be done with the default parameters:"
   ]
  },
  {
   "cell_type": "code",
   "execution_count": null,
   "metadata": {},
   "outputs": [],
   "source": [
    "m.compile()\n",
    "m.fit(data)\n",
    "m.posterior(z)"
   ]
  },
  {
   "cell_type": "markdown",
   "metadata": {},
   "source": [
    "The Q model and the inference algorithm can be specified:"
   ]
  },
  {
   "cell_type": "code",
   "execution_count": null,
   "metadata": {},
   "outputs": [],
   "source": [
    "qw = inf.Qmodel.Normal(w)\n",
    "qz = inf.Qmodel.Normal(z)\n",
    "\n",
    "qmodel = inf.Qmodel([qw, qz])\n",
    "\n",
    "m.compile(infMethod=\"KLqp\", Q=qmodel)\n",
    "m.fit(data)\n",
    "m.posterior(z)"
   ]
  },
  {
   "cell_type": "code",
   "execution_count": null,
   "metadata": {},
   "outputs": [],
   "source": [
    "inf.INF_METHODS"
   ]
  }
 ],
 "metadata": {
  "kernelspec": {
   "display_name": "Python 3",
   "language": "python",
   "name": "python3"
  },
  "language_info": {
   "codemirror_mode": {
    "name": "ipython",
    "version": 3
   },
   "file_extension": ".py",
   "mimetype": "text/x-python",
   "name": "python",
   "nbconvert_exporter": "python",
   "pygments_lexer": "ipython3",
   "version": "3.6.0"
  }
 },
 "nbformat": 4,
 "nbformat_minor": 2
}
